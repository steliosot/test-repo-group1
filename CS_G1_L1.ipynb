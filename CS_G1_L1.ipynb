{
  "nbformat": 4,
  "nbformat_minor": 0,
  "metadata": {
    "colab": {
      "provenance": []
    },
    "kernelspec": {
      "name": "python3",
      "display_name": "Python 3"
    },
    "language_info": {
      "name": "python"
    }
  },
  "cells": [
    {
      "cell_type": "code",
      "execution_count": null,
      "metadata": {
        "colab": {
          "base_uri": "https://localhost:8080/"
        },
        "id": "hqhOVNFeDGn5",
        "outputId": "57fec247-098c-457f-cf38-7f93dce21aa3"
      },
      "outputs": [
        {
          "output_type": "stream",
          "name": "stdout",
          "text": [
            "10\n",
            "Stelios\n",
            "London Paris\n"
          ]
        }
      ],
      "source": [
        "print(10)\n",
        "print(\"Stelios\")\n",
        "print(\"London\",\"Paris\")"
      ]
    },
    {
      "cell_type": "code",
      "source": [
        "print(10*2)"
      ],
      "metadata": {
        "colab": {
          "base_uri": "https://localhost:8080/"
        },
        "id": "jwJy4DQDEVXw",
        "outputId": "2e04eed6-4cf6-405a-bad9-2f7eef2c169b"
      },
      "execution_count": null,
      "outputs": [
        {
          "output_type": "stream",
          "name": "stdout",
          "text": [
            "20\n"
          ]
        }
      ]
    },
    {
      "cell_type": "code",
      "source": [
        "input(\"Enter your name: \")"
      ],
      "metadata": {
        "colab": {
          "base_uri": "https://localhost:8080/",
          "height": 80
        },
        "id": "xEps5z3_Eucc",
        "outputId": "e71217b4-8cd2-48b3-a470-5649fa64d8c5"
      },
      "execution_count": null,
      "outputs": [
        {
          "name": "stdout",
          "output_type": "stream",
          "text": [
            "Enter your name: Stelios\n"
          ]
        },
        {
          "output_type": "execute_result",
          "data": {
            "text/plain": [
              "'Stelios'"
            ],
            "application/vnd.google.colaboratory.intrinsic+json": {
              "type": "string"
            }
          },
          "metadata": {},
          "execution_count": 6
        }
      ]
    },
    {
      "cell_type": "code",
      "source": [
        "# Print number 10.10\n",
        "print(10.10)"
      ],
      "metadata": {
        "colab": {
          "base_uri": "https://localhost:8080/"
        },
        "id": "2aHeY8AtFHYT",
        "outputId": "c344f640-908e-4fe1-df27-873faea85c9f"
      },
      "execution_count": null,
      "outputs": [
        {
          "output_type": "stream",
          "name": "stdout",
          "text": [
            "10.1\n"
          ]
        }
      ]
    },
    {
      "cell_type": "code",
      "source": [
        "# x is called variable\n",
        "x = 10.20\n",
        "name = \"Stelios\"\n",
        "\n",
        "print(x)\n",
        "print(name)\n",
        "\n",
        "age = 22\n",
        "last_name = \"Jones\""
      ],
      "metadata": {
        "colab": {
          "base_uri": "https://localhost:8080/"
        },
        "id": "ARqCm-dnFwUm",
        "outputId": "824046e9-057d-4322-d32c-4e8e5079e966"
      },
      "execution_count": null,
      "outputs": [
        {
          "output_type": "stream",
          "name": "stdout",
          "text": [
            "10.2\n",
            "Stelios\n"
          ]
        }
      ]
    },
    {
      "cell_type": "code",
      "source": [
        "# Ask the user what is their city\n",
        "# Ask the user their first name\n",
        "# Print the user name and then the user city\n",
        "# * Use a variable\n",
        "\n",
        "city = input(\"Where are you from? \")\n",
        "name = input(\"What is your first name? \")\n",
        "print(name,city)"
      ],
      "metadata": {
        "colab": {
          "base_uri": "https://localhost:8080/"
        },
        "id": "tmj_8zTZGxBP",
        "outputId": "993cbf01-bc26-4280-dc8b-7ef5207ede87"
      },
      "execution_count": null,
      "outputs": [
        {
          "output_type": "stream",
          "name": "stdout",
          "text": [
            "Where are you from? 10\n",
            "What is your first name? 234\n",
            "234 10\n"
          ]
        }
      ]
    },
    {
      "cell_type": "code",
      "source": [
        "x = float(input(\"Enter a number: \"))\n",
        "y = int(input(\"Enter a second number: \"))\n",
        "print(\"Result is\",x+y)"
      ],
      "metadata": {
        "colab": {
          "base_uri": "https://localhost:8080/"
        },
        "id": "pVN1hBSbITYE",
        "outputId": "90b4b4c3-4a72-4a72-d2a0-678b112d85ff"
      },
      "execution_count": null,
      "outputs": [
        {
          "output_type": "stream",
          "name": "stdout",
          "text": [
            "Enter a number: 34\n",
            "Enter a second number: 12\n",
            "Result is 46.0\n"
          ]
        }
      ]
    },
    {
      "cell_type": "code",
      "source": [
        "# Create a program, ask the user to give you 3 integers.\n",
        "# Then find the product of the values (a*b*c)\n",
        "# 1 2 3\n",
        "# Print the result in the form The product is: 6\n",
        "a=int(input(\"Enter a number: \"))\n",
        "b=int(input(\"Enter a number: \"))\n",
        "c=int(input(\"Enter a number: \"))\n",
        "\n",
        "print(\"The product is:\", a*b*c)"
      ],
      "metadata": {
        "colab": {
          "base_uri": "https://localhost:8080/"
        },
        "id": "7F7DIY-dKBV2",
        "outputId": "805a0264-ef53-47fc-ee5e-c1fdedffedd4"
      },
      "execution_count": null,
      "outputs": [
        {
          "output_type": "stream",
          "name": "stdout",
          "text": [
            "Enter a number: 3\n",
            "Enter a number: 2\n",
            "Enter a number: 1\n",
            "The product is: 6\n"
          ]
        }
      ]
    },
    {
      "cell_type": "code",
      "source": [
        "# Ask the user to enter two numbers\n",
        "# Divide the numbers (float)\n",
        "# a\n",
        "# b\n",
        "# a/b\n",
        "\n",
        "a=float(input(\"Enter a number: \"))\n",
        "b=float(input(\"Enter a number: \"))\n",
        "\n",
        "print(a/b)"
      ],
      "metadata": {
        "colab": {
          "base_uri": "https://localhost:8080/",
          "height": 269
        },
        "id": "_pa5MqxMLNrm",
        "outputId": "b2638fd4-ca02-4d9a-bda8-1990dc601587"
      },
      "execution_count": null,
      "outputs": [
        {
          "name": "stdout",
          "output_type": "stream",
          "text": [
            "Enter a number: 6\n",
            "Enter a number: 0\n"
          ]
        },
        {
          "output_type": "error",
          "ename": "ZeroDivisionError",
          "evalue": "float division by zero",
          "traceback": [
            "\u001b[0;31m---------------------------------------------------------------------------\u001b[0m",
            "\u001b[0;31mZeroDivisionError\u001b[0m                         Traceback (most recent call last)",
            "\u001b[0;32m<ipython-input-30-4d4b08e5d5d3>\u001b[0m in \u001b[0;36m<cell line: 9>\u001b[0;34m()\u001b[0m\n\u001b[1;32m      7\u001b[0m \u001b[0ma\u001b[0m\u001b[0;34m=\u001b[0m\u001b[0mfloat\u001b[0m\u001b[0;34m(\u001b[0m\u001b[0minput\u001b[0m\u001b[0;34m(\u001b[0m\u001b[0;34m\"Enter a number: \"\u001b[0m\u001b[0;34m)\u001b[0m\u001b[0;34m)\u001b[0m\u001b[0;34m\u001b[0m\u001b[0;34m\u001b[0m\u001b[0m\n\u001b[1;32m      8\u001b[0m \u001b[0mb\u001b[0m\u001b[0;34m=\u001b[0m\u001b[0mfloat\u001b[0m\u001b[0;34m(\u001b[0m\u001b[0minput\u001b[0m\u001b[0;34m(\u001b[0m\u001b[0;34m\"Enter a number: \"\u001b[0m\u001b[0;34m)\u001b[0m\u001b[0;34m)\u001b[0m\u001b[0;34m\u001b[0m\u001b[0;34m\u001b[0m\u001b[0m\n\u001b[0;32m----> 9\u001b[0;31m \u001b[0mprint\u001b[0m\u001b[0;34m(\u001b[0m\u001b[0ma\u001b[0m\u001b[0;34m/\u001b[0m\u001b[0mb\u001b[0m\u001b[0;34m)\u001b[0m\u001b[0;34m\u001b[0m\u001b[0;34m\u001b[0m\u001b[0m\n\u001b[0m",
            "\u001b[0;31mZeroDivisionError\u001b[0m: float division by zero"
          ]
        }
      ]
    },
    {
      "cell_type": "code",
      "source": [
        "x = float(input(\"Enter a number\"))\n",
        "y = float(input(\"Enter a number\"))\n",
        "\n",
        "if y==0:\n",
        "  print(\"I cannot divide\")\n",
        "else:\n",
        "  print(x/y)"
      ],
      "metadata": {
        "colab": {
          "base_uri": "https://localhost:8080/"
        },
        "id": "aWBPNMdFMRow",
        "outputId": "dbb973e6-47e2-4401-ee73-0a823c76146a"
      },
      "execution_count": null,
      "outputs": [
        {
          "output_type": "stream",
          "name": "stdout",
          "text": [
            "Enter a number435\n",
            "Enter a number34\n",
            "12.794117647058824\n"
          ]
        }
      ]
    },
    {
      "cell_type": "code",
      "source": [
        "city = input(\"Enter a city: \")\n",
        "\n",
        "if city==\"Paris\":\n",
        "  print(\"Bonjour\")\n",
        "  print(10)\n",
        "else:\n",
        "  print(\"Hi!\")\n",
        "  print(100)"
      ],
      "metadata": {
        "colab": {
          "base_uri": "https://localhost:8080/"
        },
        "id": "Lh3GT2b9NN4K",
        "outputId": "d4e86723-a3d0-4f9a-88b7-445c84467bb3"
      },
      "execution_count": null,
      "outputs": [
        {
          "output_type": "stream",
          "name": "stdout",
          "text": [
            "Enter a city: Paris\n",
            "Bonjour\n",
            "10\n"
          ]
        }
      ]
    },
    {
      "cell_type": "markdown",
      "source": [
        "Exercise 1\n",
        "\n",
        "Create a program to ask the user their name and their age.\n",
        "\n",
        "If the user is over 18, then print you are an adult. If the user is less than 18 print, you are kid!"
      ],
      "metadata": {
        "id": "RNDiyDtUR0YL"
      }
    },
    {
      "cell_type": "code",
      "source": [
        "name = input(\"Enter a name: \")\n",
        "age = int(input(\"Enter an age: \"))\n",
        "\n",
        "if age>=18:\n",
        "  print(\"Adult\")\n",
        "else:\n",
        "  print(\"Kid\")"
      ],
      "metadata": {
        "colab": {
          "base_uri": "https://localhost:8080/"
        },
        "id": "BLS1fvMYSEpT",
        "outputId": "a6e10085-5e6a-4584-c3ad-c12917c0431b"
      },
      "execution_count": null,
      "outputs": [
        {
          "output_type": "stream",
          "name": "stdout",
          "text": [
            "Enter a name: 18\n",
            "Enter an age: 18\n",
            "Kid\n"
          ]
        }
      ]
    },
    {
      "cell_type": "code",
      "source": [
        "# > < >= <= <> != (not equal)"
      ],
      "metadata": {
        "id": "o0vVG4HTTyw0"
      },
      "execution_count": null,
      "outputs": []
    },
    {
      "cell_type": "markdown",
      "source": [
        "Create a program, ask the user to enter two numbers.\n",
        "\n",
        "Print the maximum number."
      ],
      "metadata": {
        "id": "oBExIbqyUHhQ"
      }
    },
    {
      "cell_type": "code",
      "source": [
        "a = int(input(\"Enter a number\"))\n",
        "b = int(input(\"Enter a number\"))\n",
        "\n",
        "if a>b:\n",
        "  print(a)\n",
        "else:\n",
        "  print(b)"
      ],
      "metadata": {
        "colab": {
          "base_uri": "https://localhost:8080/"
        },
        "id": "jh6vHS8-VXtl",
        "outputId": "aa73b557-70e9-41da-b5b3-56809cfe215a"
      },
      "execution_count": null,
      "outputs": [
        {
          "output_type": "stream",
          "name": "stdout",
          "text": [
            "Enter a number10\n",
            "Enter a number10\n",
            "10\n"
          ]
        }
      ]
    },
    {
      "cell_type": "code",
      "source": [
        "x = 10\n",
        "y = 20\n",
        "\n",
        "if x>y:\n",
        "  print(\"x is greater than y\")\n",
        "elif x<y:\n",
        "  print(\"x is less than y\")\n",
        "else:\n",
        "  print(\"x is equal to y\")"
      ],
      "metadata": {
        "colab": {
          "base_uri": "https://localhost:8080/"
        },
        "id": "muHv8R4CVqgN",
        "outputId": "e618b29c-3355-476f-d4f9-7e8b465db899"
      },
      "execution_count": null,
      "outputs": [
        {
          "output_type": "stream",
          "name": "stdout",
          "text": [
            "x is less than y\n"
          ]
        }
      ]
    },
    {
      "cell_type": "markdown",
      "source": [
        "Create a program to ask the user to enter a score.\n",
        "* if the score is less than 50 you failed.\n",
        "* if the score is between 50 and 70 is pass.\n",
        "* if the score is greater than 70 is distinction."
      ],
      "metadata": {
        "id": "kYYHZa_jWYWm"
      }
    },
    {
      "cell_type": "code",
      "source": [
        "score = int(input(\"Enter a score: \"))\n",
        "\n",
        "if score>0 and score<50:\n",
        "  print(\"Fail\")\n",
        "elif score>=50 and score<70:\n",
        "  print(\"Pass\")\n",
        "elif score>=70 and score<=100:\n",
        "  print(\"Distinction\")\n",
        "else:\n",
        "  print(\"Something is wrong!\")"
      ],
      "metadata": {
        "colab": {
          "base_uri": "https://localhost:8080/"
        },
        "id": "9dpwje0dWniN",
        "outputId": "d40cc094-b1cf-4501-f6e2-91a76d67a2f1"
      },
      "execution_count": null,
      "outputs": [
        {
          "output_type": "stream",
          "name": "stdout",
          "text": [
            "Enter a score: -23\n",
            "Something is wrong!\n"
          ]
        }
      ]
    }
  ]
}