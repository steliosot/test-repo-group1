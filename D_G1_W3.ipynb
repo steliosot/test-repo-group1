{
  "nbformat": 4,
  "nbformat_minor": 0,
  "metadata": {
    "colab": {
      "provenance": []
    },
    "kernelspec": {
      "name": "python3",
      "display_name": "Python 3"
    },
    "language_info": {
      "name": "python"
    }
  },
  "cells": [
    {
      "cell_type": "code",
      "execution_count": 5,
      "metadata": {
        "colab": {
          "base_uri": "https://localhost:8080/"
        },
        "id": "s3UneYmA4RJ1",
        "outputId": "f95d7256-ab75-4019-ac2c-fabc455201db"
      },
      "outputs": [
        {
          "output_type": "stream",
          "name": "stdout",
          "text": [
            "Enter a number: 56\n",
            "is positive? True\n"
          ]
        }
      ],
      "source": [
        "num = int(input(\"Enter a number: \"))\n",
        "\n",
        "if num>0:\n",
        "  positive=True\n",
        "else:\n",
        "  positive=False\n",
        "print(\"is positive?\",positive)"
      ]
    },
    {
      "cell_type": "code",
      "source": [
        "print(positive)"
      ],
      "metadata": {
        "colab": {
          "base_uri": "https://localhost:8080/"
        },
        "id": "Gz-Mgiy74tnn",
        "outputId": "b4d4c503-3043-415e-c07d-6affd099f46a"
      },
      "execution_count": 4,
      "outputs": [
        {
          "output_type": "stream",
          "name": "stdout",
          "text": [
            "True\n"
          ]
        }
      ]
    },
    {
      "cell_type": "markdown",
      "source": [
        "* if age < 18 you cannot watch film\n",
        "* if age >=18 you can watch it\n",
        "* if you are over 60 you are a senior and you have a discount"
      ],
      "metadata": {
        "id": "eQHSKj2J5VN-"
      }
    },
    {
      "cell_type": "code",
      "source": [
        "age = int(input(\"Enter age: \"))\n",
        "if age<18:\n",
        "  watch = False\n",
        "else:\n",
        "  watch = True\n",
        "\n",
        "if age>=60:\n",
        "  senior = True\n",
        "else:\n",
        "  senior = False\n",
        "print(age,watch,senior)"
      ],
      "metadata": {
        "colab": {
          "base_uri": "https://localhost:8080/"
        },
        "id": "Ooo7mov25hSo",
        "outputId": "b8bc59ea-0204-4e06-ce2c-a30df9eb608f"
      },
      "execution_count": 8,
      "outputs": [
        {
          "output_type": "stream",
          "name": "stdout",
          "text": [
            "Enter age: 8\n",
            "8 False False\n"
          ]
        }
      ]
    },
    {
      "cell_type": "markdown",
      "source": [
        "* if your score is less than 10 you fail.\n",
        "* if 10-20 you pass.\n",
        "* if >15 distinction.\n",
        "\n",
        "If you get a distinction you get an award!"
      ],
      "metadata": {
        "id": "c2F2zaMf6dsh"
      }
    },
    {
      "cell_type": "code",
      "source": [
        "score = int(input(\"Enter score: \"))\n",
        "\n",
        "if score<10:\n",
        "  fail=True\n",
        "else:\n",
        "  fail=False\n",
        "\n",
        "if score>=15:\n",
        "  distinction=True\n",
        "else:\n",
        "  distinction=False\n",
        "\n",
        "print(score,fail,distinction)"
      ],
      "metadata": {
        "colab": {
          "base_uri": "https://localhost:8080/"
        },
        "id": "NSFjtuKQ6ozN",
        "outputId": "198d20f9-1f1f-4b4a-e3a3-4ccec3c6dc9f"
      },
      "execution_count": 10,
      "outputs": [
        {
          "output_type": "stream",
          "name": "stdout",
          "text": [
            "Enter score: 8\n",
            "8 True False\n"
          ]
        }
      ]
    },
    {
      "cell_type": "markdown",
      "source": [
        "* if temp < 20 you turn on the heat.\n",
        "* if the heat is on you close the windows.\n",
        "* if the windows are closed, turn on the ventilation."
      ],
      "metadata": {
        "id": "bOh4vLbo7oAi"
      }
    },
    {
      "cell_type": "code",
      "source": [
        "temp = int(input(\"Enter a temp: \"))\n",
        "\n",
        "if temp<20:\n",
        "  heat=True\n",
        "else:\n",
        "  heat=False\n",
        "\n",
        "if heat==True:\n",
        "  closed_windows=True\n",
        "else:\n",
        "  closed_windows=False\n",
        "\n",
        "if closed_windows==True:\n",
        "  ventilation=True\n",
        "else:\n",
        "  ventilation=True\n",
        "\n",
        "print(temp, heat, closed_windows,ventilation)"
      ],
      "metadata": {
        "colab": {
          "base_uri": "https://localhost:8080/"
        },
        "id": "TGiQPY_v7kGC",
        "outputId": "39d6586f-59f2-480d-ecca-44bcaed4c0fc"
      },
      "execution_count": 11,
      "outputs": [
        {
          "output_type": "stream",
          "name": "stdout",
          "text": [
            "Enter a temp: 45\n",
            "45 False False True\n"
          ]
        }
      ]
    },
    {
      "cell_type": "code",
      "source": [
        "students = ['Mary','Tom','Stelios','Kate']\n",
        "scores = [15,12,9,18]\n",
        "\n",
        "print(students[0:2])\n",
        "print(scores)"
      ],
      "metadata": {
        "colab": {
          "base_uri": "https://localhost:8080/"
        },
        "id": "quD2e-i69UMj",
        "outputId": "6b79d040-ab38-4910-89e2-9837cd8177f0"
      },
      "execution_count": 22,
      "outputs": [
        {
          "output_type": "stream",
          "name": "stdout",
          "text": [
            "['Mary', 'Tom']\n",
            "[15, 12, 9, 18]\n"
          ]
        }
      ]
    },
    {
      "cell_type": "code",
      "source": [
        "scores[0]\n",
        "scores[-1]\n",
        "scores[1:3]"
      ],
      "metadata": {
        "colab": {
          "base_uri": "https://localhost:8080/"
        },
        "id": "KQSGWcCV-xCe",
        "outputId": "ab7f7de1-ad5f-4c79-92b2-2ae9372cae1d"
      },
      "execution_count": 25,
      "outputs": [
        {
          "output_type": "execute_result",
          "data": {
            "text/plain": [
              "[12, 9]"
            ]
          },
          "metadata": {},
          "execution_count": 25
        }
      ]
    },
    {
      "cell_type": "code",
      "source": [
        "numbers = [10,20,30,40,50,60,70,80,90]\n",
        "\n",
        "# print->20\n",
        "print(numbers[1])\n",
        "# print->80\n",
        "print(numbers[-2])\n",
        "# print->10,20,30\n",
        "print(numbers[0:3])\n",
        "# print last 3 elements\n",
        "print(numbers[-3:])\n",
        "# print -> 50,60\n",
        "print(numbers[4:6])"
      ],
      "metadata": {
        "colab": {
          "base_uri": "https://localhost:8080/"
        },
        "id": "-zLDlKIC-5XR",
        "outputId": "eae8ab9a-cf5c-4611-8b78-2b954803258f"
      },
      "execution_count": 31,
      "outputs": [
        {
          "output_type": "stream",
          "name": "stdout",
          "text": [
            "20\n",
            "80\n",
            "[10, 20, 30]\n",
            "[70, 80, 90]\n",
            "[50, 60]\n"
          ]
        }
      ]
    }
  ]
}