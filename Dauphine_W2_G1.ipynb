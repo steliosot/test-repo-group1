{
  "nbformat": 4,
  "nbformat_minor": 0,
  "metadata": {
    "colab": {
      "provenance": []
    },
    "kernelspec": {
      "name": "python3",
      "display_name": "Python 3"
    },
    "language_info": {
      "name": "python"
    }
  },
  "cells": [
    {
      "cell_type": "code",
      "execution_count": null,
      "metadata": {
        "colab": {
          "base_uri": "https://localhost:8080/"
        },
        "id": "b9aLvvyLoWr2",
        "outputId": "2ac88518-f48f-40d5-f9c1-bf282a2f80c9"
      },
      "outputs": [
        {
          "output_type": "stream",
          "name": "stdout",
          "text": [
            "Stelios\n"
          ]
        }
      ],
      "source": [
        "print(\"Stelios\")"
      ]
    },
    {
      "cell_type": "code",
      "source": [
        "name = input(\"What is your name? \")\n",
        "print(\"Hi\",name)"
      ],
      "metadata": {
        "colab": {
          "base_uri": "https://localhost:8080/"
        },
        "id": "HaJstyzNohfF",
        "outputId": "c34a4c8a-0aff-4436-879a-ca9413fb3209"
      },
      "execution_count": null,
      "outputs": [
        {
          "output_type": "stream",
          "name": "stdout",
          "text": [
            "What is your name? Tom\n",
            "Hi Tom\n"
          ]
        }
      ]
    },
    {
      "cell_type": "code",
      "source": [
        "num = float(input(\"Enter a number: \"))\n",
        "print(num*5)"
      ],
      "metadata": {
        "colab": {
          "base_uri": "https://localhost:8080/"
        },
        "id": "z2d5oI9fosLb",
        "outputId": "c333054f-b951-43b0-eba7-0a0fa696ca71"
      },
      "execution_count": null,
      "outputs": [
        {
          "output_type": "stream",
          "name": "stdout",
          "text": [
            "Enter a number: 5.23232\n",
            "26.1616\n"
          ]
        }
      ]
    },
    {
      "cell_type": "code",
      "source": [
        "num = float(input(\"Enter a number: \"))\n",
        "\n",
        "if num>0:\n",
        "  print(\"positive\")\n",
        "else:\n",
        "  print(\"negative\")"
      ],
      "metadata": {
        "colab": {
          "base_uri": "https://localhost:8080/"
        },
        "id": "s1A3Xa1Qo6zI",
        "outputId": "da9af6f3-8e47-4879-ab2a-156e8852d9c5"
      },
      "execution_count": null,
      "outputs": [
        {
          "output_type": "stream",
          "name": "stdout",
          "text": [
            "Enter a number: 345345\n",
            "positive\n"
          ]
        }
      ]
    },
    {
      "cell_type": "code",
      "source": [
        "x = int(input(\"Enter a number: \"))\n",
        "operation = input(\"Enter an operation (+,-,*,/): \")\n",
        "y = int(input(\"Enter a number: \"))\n",
        "\n",
        "if operation==\"+\":\n",
        "  print(x+y)\n",
        "elif operation==\"-\":\n",
        "  print(x-y)\n",
        "elif operation==\"*\":\n",
        "  print(x*y)\n",
        "elif operation==\"**\":\n",
        "  print(x**y)\n",
        "elif operation==\"/\" and y!=0:\n",
        "  print(x/y)\n",
        "else:\n",
        "  print(\"I do not support this operation!\")"
      ],
      "metadata": {
        "colab": {
          "base_uri": "https://localhost:8080/"
        },
        "id": "tyYo8JDUpZPS",
        "outputId": "73a04982-af93-4602-a053-1fe03eebf32a"
      },
      "execution_count": null,
      "outputs": [
        {
          "output_type": "stream",
          "name": "stdout",
          "text": [
            "Enter a number: 4\n",
            "Enter an operation (+,-,*,/): **\n",
            "Enter a number: 2\n",
            "I do not support this operation!\n"
          ]
        }
      ]
    },
    {
      "cell_type": "code",
      "source": [
        "3**3"
      ],
      "metadata": {
        "colab": {
          "base_uri": "https://localhost:8080/"
        },
        "id": "bqVsfb5JrQ-4",
        "outputId": "44e786e6-f085-4715-daef-5cfb2ddfa777"
      },
      "execution_count": null,
      "outputs": [
        {
          "output_type": "execute_result",
          "data": {
            "text/plain": [
              "27"
            ]
          },
          "metadata": {},
          "execution_count": 12
        }
      ]
    },
    {
      "cell_type": "markdown",
      "source": [
        "Ask the user to enter a number.\n",
        "\n",
        "If the number is between 0 and 1 print the percentage of the number.\n",
        "\n",
        "In any other case print, please enter a number between 0 and 1."
      ],
      "metadata": {
        "id": "J8KYIXeNr19M"
      }
    },
    {
      "cell_type": "code",
      "source": [
        "num = float(input(\"Enter a number: \"))\n",
        "\n",
        "if num>=0 and num<=1:\n",
        "  print(\"Percentage is\",num*100,\"%\")\n",
        "else:\n",
        "  print(\"I cannot do it!\")"
      ],
      "metadata": {
        "colab": {
          "base_uri": "https://localhost:8080/"
        },
        "id": "BOiUIrgKsEBd",
        "outputId": "c230fd48-664f-4d79-c3e8-6f9a317ab921"
      },
      "execution_count": null,
      "outputs": [
        {
          "output_type": "stream",
          "name": "stdout",
          "text": [
            "Enter a number: 0.2\n",
            "Percentage is 20.0 %\n"
          ]
        }
      ]
    },
    {
      "cell_type": "code",
      "source": [
        "text = \"My name is Stelios and I live in London\"\n",
        "print(text)"
      ],
      "metadata": {
        "colab": {
          "base_uri": "https://localhost:8080/"
        },
        "id": "YEZ-SEEKtMEe",
        "outputId": "06578ee0-0356-46ce-b27a-e6d9c561a0df"
      },
      "execution_count": null,
      "outputs": [
        {
          "output_type": "stream",
          "name": "stdout",
          "text": [
            "My name is Stelios and I live in London\n"
          ]
        }
      ]
    },
    {
      "cell_type": "code",
      "source": [
        "print(text[3])"
      ],
      "metadata": {
        "colab": {
          "base_uri": "https://localhost:8080/"
        },
        "id": "vKYmIKPEtoiX",
        "outputId": "a3a48fd7-ac1d-4320-b98c-5f03b839c77b"
      },
      "execution_count": null,
      "outputs": [
        {
          "output_type": "stream",
          "name": "stdout",
          "text": [
            "n\n"
          ]
        }
      ]
    },
    {
      "cell_type": "code",
      "source": [
        "name = \"Tomas\"\n",
        "\n",
        "print(name[4])"
      ],
      "metadata": {
        "colab": {
          "base_uri": "https://localhost:8080/"
        },
        "id": "PkJUeUEct4kT",
        "outputId": "fda7b4b8-1a5f-479b-d609-6a0645cf826c"
      },
      "execution_count": null,
      "outputs": [
        {
          "output_type": "stream",
          "name": "stdout",
          "text": [
            "s\n"
          ]
        }
      ]
    },
    {
      "cell_type": "code",
      "source": [],
      "metadata": {
        "id": "qA-ey29Ovb7I"
      },
      "execution_count": null,
      "outputs": []
    },
    {
      "cell_type": "code",
      "source": [],
      "metadata": {
        "id": "QoXg5yhEvb4z"
      },
      "execution_count": null,
      "outputs": []
    },
    {
      "cell_type": "code",
      "source": [],
      "metadata": {
        "id": "kvR3lUbovb2u"
      },
      "execution_count": null,
      "outputs": []
    },
    {
      "cell_type": "code",
      "source": [
        "text = \"My name is Stelios and I live in London\"\n",
        "print(text[-6])"
      ],
      "metadata": {
        "colab": {
          "base_uri": "https://localhost:8080/"
        },
        "id": "93rugV3LuMT1",
        "outputId": "b41be929-cfbb-4598-936b-afdb477e6747"
      },
      "execution_count": null,
      "outputs": [
        {
          "output_type": "stream",
          "name": "stdout",
          "text": [
            "L\n"
          ]
        }
      ]
    },
    {
      "cell_type": "code",
      "source": [
        "print(text[3:7])"
      ],
      "metadata": {
        "colab": {
          "base_uri": "https://localhost:8080/"
        },
        "id": "40lzE1NZulz7",
        "outputId": "b9c1054b-f755-4a21-cca8-894ab8d526f1"
      },
      "execution_count": null,
      "outputs": [
        {
          "output_type": "stream",
          "name": "stdout",
          "text": [
            "name\n"
          ]
        }
      ]
    },
    {
      "cell_type": "code",
      "source": [
        "city = \"London\"\n",
        "print(city[0:3])"
      ],
      "metadata": {
        "colab": {
          "base_uri": "https://localhost:8080/"
        },
        "id": "MMThHPasu2tb",
        "outputId": "b763b916-1f48-49b7-e791-6e1e568be230"
      },
      "execution_count": null,
      "outputs": [
        {
          "output_type": "stream",
          "name": "stdout",
          "text": [
            "Lon\n"
          ]
        }
      ]
    },
    {
      "cell_type": "code",
      "source": [
        "text = \"My name is Stelios and I live in London\"\n",
        "print(text[-6:])"
      ],
      "metadata": {
        "colab": {
          "base_uri": "https://localhost:8080/"
        },
        "id": "NcsBZYyPvdFH",
        "outputId": "7b2c8b44-9338-4006-a521-65136e5e62b8"
      },
      "execution_count": null,
      "outputs": [
        {
          "output_type": "stream",
          "name": "stdout",
          "text": [
            "London\n"
          ]
        }
      ]
    },
    {
      "cell_type": "code",
      "source": [],
      "metadata": {
        "id": "425qF0CNw4h4"
      },
      "execution_count": null,
      "outputs": []
    },
    {
      "cell_type": "markdown",
      "source": [
        "Ask the user to enter a city.\n",
        "If the user enters a city starting with L capital, print \"Starts with L capital\"\n",
        "else print something else."
      ],
      "metadata": {
        "id": "O0otv4opw5Wj"
      }
    },
    {
      "cell_type": "code",
      "source": [
        "city = input(\"Enter a city: \")\n",
        "if city[0]==\"L\":\n",
        "  print(\"Starts with L\")\n",
        "else:\n",
        "  print(\"asdasdas\")"
      ],
      "metadata": {
        "id": "wQRPEzVUxFd2"
      },
      "execution_count": null,
      "outputs": []
    },
    {
      "cell_type": "markdown",
      "source": [
        "Ask the user to enter a phrase. If the phrase doesnt finish with dot (.) say, you need a dot! else say all good!\n",
        "\n",
        "London is the capital of UK"
      ],
      "metadata": {
        "id": "PdoulJvSx18u"
      }
    },
    {
      "cell_type": "code",
      "source": [
        "phrase = input(\"Enter a phrase: \")\n",
        "if phrase[-1]!=\".\":\n",
        "  print(\"You need a dot!\")\n",
        "else:\n",
        "  print(\"All good!\")"
      ],
      "metadata": {
        "colab": {
          "base_uri": "https://localhost:8080/"
        },
        "id": "v2zt55ELx_TK",
        "outputId": "6974cc84-11bf-4b19-acb0-c864bc14aa10"
      },
      "execution_count": null,
      "outputs": [
        {
          "output_type": "stream",
          "name": "stdout",
          "text": [
            "Enter a phrase: sdfsd sdfsd fsd f.\n",
            "All good!\n"
          ]
        }
      ]
    }
  ]
}